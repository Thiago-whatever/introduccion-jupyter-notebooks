{
 "cells": [
  {
   "cell_type": "markdown",
   "metadata": {},
   "source": [
    "# Introducción a las Estructuras de Control en Python  \n",
    "\n",
    "¡Bienvenido! En este notebook aprenderás y practicarás conceptos básicos de programación en Python.  \n",
    "A través de ejercicios prácticos, consolidarás tus conocimientos de condicionales, bucles y funciones simples.  \n",
    "\n",
    "## **Instrucciones**  \n",
    "1. Lee cada sección con atención.  \n",
    "2. Resuelve los ejercicios directamente en las celdas de código proporcionadas.  \n",
    "3. Ejecuta las celdas para probar tu código y obtener retroalimentación automática.  \n",
    "4. Guarda tu trabajo frecuentemente.  \n",
    "\n",
    "\n",
    "¡Comencemos! 🚀  \n",
    "\n"
   ]
  },
  {
   "cell_type": "markdown",
   "metadata": {},
   "source": [
    "## Ejercicio 1: Número Par o Impar  \n",
    "\n",
    "Escribe una función llamada `es_par` que reciba un número entero como argumento y devuelva `True` si el número es par, o `False` si es impar.  \n",
    "\n",
    "### **Restricciones**  \n",
    "- Usa una estructura `if/else` dentro de tu función.  \n",
    "\n",
    "### **Ejemplo de uso**  \n",
    "```python\n",
    "es_par(4)   # Debería devolver True\n",
    "es_par(7)   # Debería devolver False\n",
    "```"
   ]
  },
  {
   "cell_type": "code",
   "execution_count": null,
   "metadata": {},
   "outputs": [],
   "source": [
    "# Tu solución aquí:\n",
    "def es_par(numero):\n",
    "    pass  # Reemplaza esto con tu código\n"
   ]
  },
  {
   "cell_type": "code",
   "execution_count": null,
   "metadata": {},
   "outputs": [],
   "source": [
    "# Validación automática\n",
    "import numpy as np\n",
    "\n",
    "# Pruebas automáticas\n",
    "assert es_par(2) == True, \"Error: 2 debería ser par\"\n",
    "assert es_par(3) == False, \"Error: 3 debería ser impar\"\n",
    "\n",
    "# Retroalimentación al estudiante\n",
    "print(\"¡Bien hecho! Pasaste todas las pruebas para `es_par`.\")"
   ]
  },
  {
   "cell_type": "markdown",
   "metadata": {},
   "source": [
    "### **Sección 2: Bucles**\n",
    "## Ejercicio 2: Suma de los Primeros N Números  \n",
    "\n",
    "Escribe una función llamada `suma_numeros` que reciba un número entero `n` y devuelva la suma de todos los números desde 1 hasta `n`.  \n",
    "\n",
    "### **Restricciones**  \n",
    "- Usa un bucle `for`.  \n",
    "\n",
    "### **Ejemplo de uso**  \n",
    "```python\n",
    "suma_numeros(5)   # Debería devolver 15 (1+2+3+4+5)\n",
    "suma_numeros(3)   # Debería devolver 6 (1+2+3)\n"
   ]
  },
  {
   "cell_type": "code",
   "execution_count": null,
   "metadata": {},
   "outputs": [],
   "source": [
    "# Tu solución aquí:\n",
    "def suma_numeros(n):\n",
    "    pass  # Reemplaza esto con tu código\n"
   ]
  },
  {
   "cell_type": "code",
   "execution_count": null,
   "metadata": {},
   "outputs": [],
   "source": [
    "# Validación automática\n",
    "import numpy as np\n",
    "\n",
    "# Pruebas automáticas\n",
    "assert suma_numeros(5) == 15, \"Error: La suma de los primeros 5 números debería ser 15\"\n",
    "assert suma_numeros(10) == 55, \"Error: La suma de los primeros 10 números debería ser 55\"\n",
    "\n",
    "# Retroalimentación al estudiante\n",
    "print(\"¡Buen trabajo! Pasaste todas las pruebas para `suma_numeros`.\")"
   ]
  },
  {
   "cell_type": "markdown",
   "metadata": {},
   "source": [
    "## Ejercicio 3: Conversión de Temperatura  \n",
    "\n",
    "Escribe una función llamada `celsius_a_fahrenheit` que convierta una temperatura dada en grados Celsius a Fahrenheit usando la fórmula:  \n",
    "\\[\n",
    "\\text{Fahrenheit} = \\left(\\text{Celsius} \\times \\frac{9}{5}\\right) + 32\n",
    "\\]\n",
    "\n",
    "### **Ejemplo de uso**  \n",
    "```python\n",
    "celsius_a_fahrenheit(0)    # Debería devolver 32.0\n",
    "celsius_a_fahrenheit(100)  # Debería devolver 212.0\n"
   ]
  },
  {
   "cell_type": "code",
   "execution_count": null,
   "metadata": {},
   "outputs": [],
   "source": [
    "# Tu solución aquí:\n",
    "def celsius_a_fahrenheit(celsius):\n",
    "    pass  # Reemplaza esto con tu código\n"
   ]
  },
  {
   "cell_type": "code",
   "execution_count": null,
   "metadata": {},
   "outputs": [],
   "source": [
    "# Validación automática\n",
    "import numpy as np\n",
    "\n",
    "# Pruebas automáticas\n",
    "assert np.isclose(celsius_a_fahrenheit(0), 32.0), \"Error: 0°C debería ser 32°F\"\n",
    "assert np.isclose(celsius_a_fahrenheit(100), 212.0), \"Error: 100°C debería ser 212°F\"\n",
    "\n",
    "# Retroalimentación al estudiante\n",
    "print(\"¡Excelente! Pasaste todas las pruebas para `celsius_a_fahrenheit`.\")\n"
   ]
  },
  {
   "cell_type": "markdown",
   "metadata": {},
   "source": [
    "## Resumen  \n",
    "\n",
    "¡Felicidades! Has completado los ejercicios de este notebook.  \n",
    "- Practicaste condicionales (`if/else`).  \n",
    "- Usaste bucles (`for`).  \n",
    "- Escribiste funciones simples.  \n",
    "\n",
    "No olvides guardar y subir tu trabajo a GitHub con los siguientes pasos:  \n",
    "1. Ve a tu terminal y asegúrate de estar en la carpeta del repositorio.  \n",
    "2. Usa estos comandos para guardar y subir tu trabajo:  \n",
    "   ```bash\n",
    "   git add .\n",
    "   git commit -m \"Ejercicios completados\"\n",
    "   git push origin main\n"
   ]
  }
 ],
 "metadata": {
  "kernelspec": {
   "display_name": "base",
   "language": "python",
   "name": "python3"
  },
  "language_info": {
   "name": "python",
   "version": "3.12.4"
  }
 },
 "nbformat": 4,
 "nbformat_minor": 2
}
