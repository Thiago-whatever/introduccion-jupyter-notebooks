{
 "cells": [
  {
   "cell_type": "markdown",
   "metadata": {},
   "source": [
    "# Introducción a las Estructuras de Control en Python  \n",
    "\n",
    "¡Bienvenido! En este notebook aprenderás y practicarás conceptos básicos de programación en Python.  \n",
    "A través de ejercicios prácticos, consolidarás tus conocimientos de condicionales, bucles y funciones simples.  \n",
    "\n",
    "---\n",
    "\n",
    "## **Instrucciones**  \n",
    "1. Lee cada sección con atención.  \n",
    "2. Resuelve los ejercicios directamente en las celdas de código proporcionadas.  \n",
    "3. Ejecuta las celdas para probar tu código y obtener retroalimentación automática.  \n",
    "4. Guarda tu trabajo frecuentemente.  \n",
    "\n",
    "---\n",
    "\n",
    "¡Comencemos! 🚀  "
   ]
  }
 ],
 "metadata": {
  "language_info": {
   "name": "python"
  }
 },
 "nbformat": 4,
 "nbformat_minor": 2
}
